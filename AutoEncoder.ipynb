{
 "cells": [
  {
   "cell_type": "markdown",
   "id": "dd0ca3b8-6c81-4868-b7e7-ed54abcc49d0",
   "metadata": {},
   "source": [
    "Modelo  de remoção de ruído de imagens"
   ]
  },
  {
   "cell_type": "code",
   "execution_count": 2,
   "id": "46485dda-0cb1-4aba-83c8-0fe77127180c",
   "metadata": {
    "tags": []
   },
   "outputs": [],
   "source": [
    "#Importação das bibliotecas necessárias\n",
    "import pandas as pd\n",
    "from keras.models import Sequential, Model\n",
    "import matplotlib.pyplot as plt\n",
    "import numpy as np\n",
    "from sklearn.preprocessing import MinMaxScaler\n",
    "from keras.layers import Dense, Dropout, Input\n",
    "from keras.callbacks import EarlyStopping\n",
    "from keras.datasets import mnist"
   ]
  },
  {
   "cell_type": "code",
   "execution_count": 3,
   "id": "43bc0ec3-1d46-459e-a38e-0d47cf5c3675",
   "metadata": {
    "tags": []
   },
   "outputs": [],
   "source": [
    "(x_treinamento,_),(x_teste, _) = mnist.load_data()"
   ]
  },
  {
   "cell_type": "code",
   "execution_count": 6,
   "id": "b99ff37a-2942-46cc-ab5b-670f893f3eab",
   "metadata": {
    "tags": []
   },
   "outputs": [
    {
     "data": {
      "image/png": "[encoded data removed]",
      "text/plain": [
       "<Figure size 640x480 with 1 Axes>"
      ]
     },
     "metadata": {},
     "output_type": "display_data"
    }
   ],
   "source": [
    "#Visualisação de imagem de teste\n",
    "img = x_treinamento[290]\n",
    "plt.imshow(img, cmap = 'gray')\n",
    "plt.show()\n"
   ]
  },
  {
   "cell_type": "markdown",
   "id": "a1bf6c94-d1c5-4655-a5de-2b9889c7e484",
   "metadata": {},
   "source": [
    "Início no tratamento dos dados"
   ]
  },
  {
   "cell_type": "code",
   "execution_count": 9,
   "id": "3cb12859-ee3e-4bf2-90e5-6e24de2449ff",
   "metadata": {
    "tags": []
   },
   "outputs": [],
   "source": [
    "#normalização\n",
    "x_treinamento = x_treinamento.astype(\"float32\") / 255.0\n",
    "x_teste = x_teste.astype(\"float32\") / 255.0"
   ]
  },
  {
   "cell_type": "code",
   "execution_count": 11,
   "id": "f2544c6e-120f-448f-8942-bb31bbed6e23",
   "metadata": {
    "tags": []
   },
   "outputs": [],
   "source": [
    "#Transformação de matriz para vetor\n",
    "x_treinamento = x_treinamento.reshape(len(x_treinamento), np.prod(x_treinamento.shape[1:]))\n",
    "x_teste = x_teste.reshape(len(x_teste), np.prod(x_teste.shape[1:]))"
   ]
  },
  {
   "cell_type": "markdown",
   "id": "a538f87a-884a-4d58-af03-192bcda31b2d",
   "metadata": {
    "tags": []
   },
   "source": [
    "Inserção de Ruídos com dados aleatórios do numpy"
   ]
  },
  {
   "cell_type": "code",
   "execution_count": 14,
   "id": "b791d755-067a-4d39-bb64-119d70b86de5",
   "metadata": {
    "tags": []
   },
   "outputs": [],
   "source": [
    "x_treinamento_ruido = x_treinamento + 0.7 * np.random.normal(loc =0.0, scale = 1.0, size = x_treinamento.shape)\n",
    "x_teste_ruido = x_teste + 0.7 * np.random.normal(loc = 0.0, scale = 1.0, size = x_teste.shape)"
   ]
  },
  {
   "cell_type": "code",
   "execution_count": 19,
   "id": "883da42d-e6d7-42a0-94c2-f4dd6c2b29d9",
   "metadata": {
    "tags": []
   },
   "outputs": [],
   "source": [
    "x_treinamento_ruido = np.clip(x_treinamento_ruido,0.0,1.0)\n",
    "x_teste_ruido = np.clip(x_teste_ruido, 0.0, 1.0)"
   ]
  },
  {
   "cell_type": "markdown",
   "id": "45f732fb-00cd-4359-960a-215dee62048e",
   "metadata": {},
   "source": [
    "Treinamento do Modelo de AutoEncoder"
   ]
  },
  {
   "cell_type": "code",
   "execution_count": 26,
   "id": "421c8415-c7ca-423e-890b-0c1caa65f8c2",
   "metadata": {
    "tags": []
   },
   "outputs": [
    {
     "name": "stdout",
     "output_type": "stream",
     "text": [
      "Epoch 1/500\n",
      "\u001b[1m469/469\u001b[0m \u001b[32m━━━━━━━━━━━━━━━━━━━━\u001b[0m\u001b[37m\u001b[0m \u001b[1m4s\u001b[0m 6ms/step - loss: 0.2644 - val_loss: 0.1585\n",
      "Epoch 2/500\n",
      "\u001b[1m469/469\u001b[0m \u001b[32m━━━━━━━━━━━━━━━━━━━━\u001b[0m\u001b[37m\u001b[0m \u001b[1m3s\u001b[0m 6ms/step - loss: 0.1551 - val_loss: 0.1438\n",
      "Epoch 3/500\n",
      "\u001b[1m469/469\u001b[0m \u001b[32m━━━━━━━━━━━━━━━━━━━━\u001b[0m\u001b[37m\u001b[0m \u001b[1m3s\u001b[0m 7ms/step - loss: 0.1433 - val_loss: 0.1387\n",
      "Epoch 4/500\n",
      "\u001b[1m469/469\u001b[0m \u001b[32m━━━━━━━━━━━━━━━━━━━━\u001b[0m\u001b[37m\u001b[0m \u001b[1m3s\u001b[0m 6ms/step - loss: 0.1380 - val_loss: 0.1364\n",
      "Epoch 5/500\n",
      "\u001b[1m469/469\u001b[0m \u001b[32m━━━━━━━━━━━━━━━━━━━━\u001b[0m\u001b[37m\u001b[0m \u001b[1m3s\u001b[0m 6ms/step - loss: 0.1351 - val_loss: 0.1344\n",
      "Epoch 6/500\n",
      "\u001b[1m469/469\u001b[0m \u001b[32m━━━━━━━━━━━━━━━━━━━━\u001b[0m\u001b[37m\u001b[0m \u001b[1m3s\u001b[0m 6ms/step - loss: 0.1333 - val_loss: 0.1329\n",
      "Epoch 7/500\n",
      "\u001b[1m469/469\u001b[0m \u001b[32m━━━━━━━━━━━━━━━━━━━━\u001b[0m\u001b[37m\u001b[0m \u001b[1m3s\u001b[0m 6ms/step - loss: 0.1316 - val_loss: 0.1321\n",
      "Epoch 8/500\n",
      "\u001b[1m469/469\u001b[0m \u001b[32m━━━━━━━━━━━━━━━━━━━━\u001b[0m\u001b[37m\u001b[0m \u001b[1m3s\u001b[0m 7ms/step - loss: 0.1304 - val_loss: 0.1312\n",
      "Epoch 9/500\n",
      "\u001b[1m469/469\u001b[0m \u001b[32m━━━━━━━━━━━━━━━━━━━━\u001b[0m\u001b[37m\u001b[0m \u001b[1m3s\u001b[0m 7ms/step - loss: 0.1292 - val_loss: 0.1305\n",
      "Epoch 10/500\n",
      "\u001b[1m469/469\u001b[0m \u001b[32m━━━━━━━━━━━━━━━━━━━━\u001b[0m\u001b[37m\u001b[0m \u001b[1m5s\u001b[0m 6ms/step - loss: 0.1284 - val_loss: 0.1301\n",
      "Epoch 11/500\n",
      "\u001b[1m469/469\u001b[0m \u001b[32m━━━━━━━━━━━━━━━━━━━━\u001b[0m\u001b[37m\u001b[0m \u001b[1m3s\u001b[0m 7ms/step - loss: 0.1274 - val_loss: 0.1298\n",
      "Epoch 12/500\n",
      "\u001b[1m469/469\u001b[0m \u001b[32m━━━━━━━━━━━━━━━━━━━━\u001b[0m\u001b[37m\u001b[0m \u001b[1m3s\u001b[0m 6ms/step - loss: 0.1270 - val_loss: 0.1294\n",
      "Epoch 13/500\n",
      "\u001b[1m469/469\u001b[0m \u001b[32m━━━━━━━━━━━━━━━━━━━━\u001b[0m\u001b[37m\u001b[0m \u001b[1m3s\u001b[0m 7ms/step - loss: 0.1257 - val_loss: 0.1288\n",
      "Epoch 14/500\n",
      "\u001b[1m469/469\u001b[0m \u001b[32m━━━━━━━━━━━━━━━━━━━━\u001b[0m\u001b[37m\u001b[0m \u001b[1m3s\u001b[0m 7ms/step - loss: 0.1255 - val_loss: 0.1287\n",
      "Epoch 15/500\n",
      "\u001b[1m469/469\u001b[0m \u001b[32m━━━━━━━━━━━━━━━━━━━━\u001b[0m\u001b[37m\u001b[0m \u001b[1m3s\u001b[0m 6ms/step - loss: 0.1250 - val_loss: 0.1287\n",
      "Epoch 16/500\n",
      "\u001b[1m469/469\u001b[0m \u001b[32m━━━━━━━━━━━━━━━━━━━━\u001b[0m\u001b[37m\u001b[0m \u001b[1m3s\u001b[0m 6ms/step - loss: 0.1244 - val_loss: 0.1280\n",
      "Epoch 17/500\n",
      "\u001b[1m469/469\u001b[0m \u001b[32m━━━━━━━━━━━━━━━━━━━━\u001b[0m\u001b[37m\u001b[0m \u001b[1m3s\u001b[0m 6ms/step - loss: 0.1238 - val_loss: 0.1280\n",
      "Epoch 18/500\n",
      "\u001b[1m469/469\u001b[0m \u001b[32m━━━━━━━━━━━━━━━━━━━━\u001b[0m\u001b[37m\u001b[0m \u001b[1m3s\u001b[0m 7ms/step - loss: 0.1236 - val_loss: 0.1276\n",
      "Epoch 19/500\n",
      "\u001b[1m469/469\u001b[0m \u001b[32m━━━━━━━━━━━━━━━━━━━━\u001b[0m\u001b[37m\u001b[0m \u001b[1m3s\u001b[0m 7ms/step - loss: 0.1232 - val_loss: 0.1275\n",
      "Epoch 20/500\n",
      "\u001b[1m469/469\u001b[0m \u001b[32m━━━━━━━━━━━━━━━━━━━━\u001b[0m\u001b[37m\u001b[0m \u001b[1m3s\u001b[0m 6ms/step - loss: 0.1228 - val_loss: 0.1278\n",
      "Epoch 21/500\n",
      "\u001b[1m469/469\u001b[0m \u001b[32m━━━━━━━━━━━━━━━━━━━━\u001b[0m\u001b[37m\u001b[0m \u001b[1m5s\u001b[0m 6ms/step - loss: 0.1226 - val_loss: 0.1273\n",
      "Epoch 22/500\n",
      "\u001b[1m469/469\u001b[0m \u001b[32m━━━━━━━━━━━━━━━━━━━━\u001b[0m\u001b[37m\u001b[0m \u001b[1m3s\u001b[0m 7ms/step - loss: 0.1223 - val_loss: 0.1280\n",
      "Epoch 23/500\n",
      "\u001b[1m469/469\u001b[0m \u001b[32m━━━━━━━━━━━━━━━━━━━━\u001b[0m\u001b[37m\u001b[0m \u001b[1m3s\u001b[0m 7ms/step - loss: 0.1221 - val_loss: 0.1275\n",
      "Epoch 24/500\n",
      "\u001b[1m469/469\u001b[0m \u001b[32m━━━━━━━━━━━━━━━━━━━━\u001b[0m\u001b[37m\u001b[0m \u001b[1m4s\u001b[0m 8ms/step - loss: 0.1218 - val_loss: 0.1270\n",
      "Epoch 25/500\n",
      "\u001b[1m469/469\u001b[0m \u001b[32m━━━━━━━━━━━━━━━━━━━━\u001b[0m\u001b[37m\u001b[0m \u001b[1m3s\u001b[0m 7ms/step - loss: 0.1216 - val_loss: 0.1269\n",
      "Epoch 26/500\n",
      "\u001b[1m469/469\u001b[0m \u001b[32m━━━━━━━━━━━━━━━━━━━━\u001b[0m\u001b[37m\u001b[0m \u001b[1m6s\u001b[0m 8ms/step - loss: 0.1212 - val_loss: 0.1267\n",
      "Epoch 27/500\n",
      "\u001b[1m469/469\u001b[0m \u001b[32m━━━━━━━━━━━━━━━━━━━━\u001b[0m\u001b[37m\u001b[0m \u001b[1m3s\u001b[0m 7ms/step - loss: 0.1209 - val_loss: 0.1270\n",
      "Epoch 28/500\n",
      "\u001b[1m469/469\u001b[0m \u001b[32m━━━━━━━━━━━━━━━━━━━━\u001b[0m\u001b[37m\u001b[0m \u001b[1m3s\u001b[0m 6ms/step - loss: 0.1209 - val_loss: 0.1268\n",
      "Epoch 29/500\n",
      "\u001b[1m469/469\u001b[0m \u001b[32m━━━━━━━━━━━━━━━━━━━━\u001b[0m\u001b[37m\u001b[0m \u001b[1m5s\u001b[0m 5ms/step - loss: 0.1208 - val_loss: 0.1267\n",
      "Epoch 30/500\n",
      "\u001b[1m469/469\u001b[0m \u001b[32m━━━━━━━━━━━━━━━━━━━━\u001b[0m\u001b[37m\u001b[0m \u001b[1m3s\u001b[0m 6ms/step - loss: 0.1206 - val_loss: 0.1267\n",
      "Epoch 31/500\n",
      "\u001b[1m469/469\u001b[0m \u001b[32m━━━━━━━━━━━━━━━━━━━━\u001b[0m\u001b[37m\u001b[0m \u001b[1m3s\u001b[0m 7ms/step - loss: 0.1204 - val_loss: 0.1267\n",
      "Epoch 32/500\n",
      "\u001b[1m469/469\u001b[0m \u001b[32m━━━━━━━━━━━━━━━━━━━━\u001b[0m\u001b[37m\u001b[0m \u001b[1m4s\u001b[0m 9ms/step - loss: 0.1206 - val_loss: 0.1265\n",
      "Epoch 33/500\n",
      "\u001b[1m469/469\u001b[0m \u001b[32m━━━━━━━━━━━━━━━━━━━━\u001b[0m\u001b[37m\u001b[0m \u001b[1m4s\u001b[0m 6ms/step - loss: 0.1201 - val_loss: 0.1266\n",
      "Epoch 34/500\n",
      "\u001b[1m469/469\u001b[0m \u001b[32m━━━━━━━━━━━━━━━━━━━━\u001b[0m\u001b[37m\u001b[0m \u001b[1m3s\u001b[0m 6ms/step - loss: 0.1201 - val_loss: 0.1265\n",
      "Epoch 35/500\n",
      "\u001b[1m469/469\u001b[0m \u001b[32m━━━━━━━━━━━━━━━━━━━━\u001b[0m\u001b[37m\u001b[0m \u001b[1m3s\u001b[0m 6ms/step - loss: 0.1200 - val_loss: 0.1263\n",
      "Epoch 36/500\n",
      "\u001b[1m469/469\u001b[0m \u001b[32m━━━━━━━━━━━━━━━━━━━━\u001b[0m\u001b[37m\u001b[0m \u001b[1m5s\u001b[0m 6ms/step - loss: 0.1196 - val_loss: 0.1263\n",
      "Epoch 37/500\n",
      "\u001b[1m469/469\u001b[0m \u001b[32m━━━━━━━━━━━━━━━━━━━━\u001b[0m\u001b[37m\u001b[0m \u001b[1m3s\u001b[0m 6ms/step - loss: 0.1198 - val_loss: 0.1265\n",
      "Epoch 38/500\n",
      "\u001b[1m469/469\u001b[0m \u001b[32m━━━━━━━━━━━━━━━━━━━━\u001b[0m\u001b[37m\u001b[0m \u001b[1m3s\u001b[0m 6ms/step - loss: 0.1195 - val_loss: 0.1267\n",
      "Epoch 39/500\n",
      "\u001b[1m469/469\u001b[0m \u001b[32m━━━━━━━━━━━━━━━━━━━━\u001b[0m\u001b[37m\u001b[0m \u001b[1m3s\u001b[0m 7ms/step - loss: 0.1195 - val_loss: 0.1264\n",
      "Epoch 40/500\n",
      "\u001b[1m469/469\u001b[0m \u001b[32m━━━━━━━━━━━━━━━━━━━━\u001b[0m\u001b[37m\u001b[0m \u001b[1m4s\u001b[0m 8ms/step - loss: 0.1194 - val_loss: 0.1262\n",
      "Epoch 41/500\n",
      "\u001b[1m469/469\u001b[0m \u001b[32m━━━━━━━━━━━━━━━━━━━━\u001b[0m\u001b[37m\u001b[0m \u001b[1m3s\u001b[0m 7ms/step - loss: 0.1192 - val_loss: 0.1265\n",
      "Epoch 42/500\n",
      "\u001b[1m469/469\u001b[0m \u001b[32m━━━━━━━━━━━━━━━━━━━━\u001b[0m\u001b[37m\u001b[0m \u001b[1m3s\u001b[0m 7ms/step - loss: 0.1192 - val_loss: 0.1263\n",
      "Epoch 43/500\n",
      "\u001b[1m469/469\u001b[0m \u001b[32m━━━━━━━━━━━━━━━━━━━━\u001b[0m\u001b[37m\u001b[0m \u001b[1m5s\u001b[0m 6ms/step - loss: 0.1192 - val_loss: 0.1264\n",
      "Epoch 44/500\n",
      "\u001b[1m469/469\u001b[0m \u001b[32m━━━━━━━━━━━━━━━━━━━━\u001b[0m\u001b[37m\u001b[0m \u001b[1m3s\u001b[0m 6ms/step - loss: 0.1190 - val_loss: 0.1262\n",
      "Epoch 45/500\n",
      "\u001b[1m469/469\u001b[0m \u001b[32m━━━━━━━━━━━━━━━━━━━━\u001b[0m\u001b[37m\u001b[0m \u001b[1m3s\u001b[0m 7ms/step - loss: 0.1189 - val_loss: 0.1267\n",
      "Epoch 46/500\n",
      "\u001b[1m469/469\u001b[0m \u001b[32m━━━━━━━━━━━━━━━━━━━━\u001b[0m\u001b[37m\u001b[0m \u001b[1m5s\u001b[0m 7ms/step - loss: 0.1189 - val_loss: 0.1261\n",
      "Epoch 47/500\n",
      "\u001b[1m469/469\u001b[0m \u001b[32m━━━━━━━━━━━━━━━━━━━━\u001b[0m\u001b[37m\u001b[0m \u001b[1m3s\u001b[0m 7ms/step - loss: 0.1190 - val_loss: 0.1262\n",
      "Epoch 48/500\n",
      "\u001b[1m469/469\u001b[0m \u001b[32m━━━━━━━━━━━━━━━━━━━━\u001b[0m\u001b[37m\u001b[0m \u001b[1m3s\u001b[0m 6ms/step - loss: 0.1189 - val_loss: 0.1262\n",
      "Epoch 49/500\n",
      "\u001b[1m469/469\u001b[0m \u001b[32m━━━━━━━━━━━━━━━━━━━━\u001b[0m\u001b[37m\u001b[0m \u001b[1m3s\u001b[0m 7ms/step - loss: 0.1187 - val_loss: 0.1261\n",
      "Epoch 50/500\n",
      "\u001b[1m469/469\u001b[0m \u001b[32m━━━━━━━━━━━━━━━━━━━━\u001b[0m\u001b[37m\u001b[0m \u001b[1m5s\u001b[0m 6ms/step - loss: 0.1188 - val_loss: 0.1262\n",
      "Epoch 51/500\n",
      "\u001b[1m469/469\u001b[0m \u001b[32m━━━━━━━━━━━━━━━━━━━━\u001b[0m\u001b[37m\u001b[0m \u001b[1m3s\u001b[0m 5ms/step - loss: 0.1187 - val_loss: 0.1261\n",
      "Epoch 52/500\n",
      "\u001b[1m469/469\u001b[0m \u001b[32m━━━━━━━━━━━━━━━━━━━━\u001b[0m\u001b[37m\u001b[0m \u001b[1m3s\u001b[0m 5ms/step - loss: 0.1183 - val_loss: 0.1262\n",
      "Epoch 53/500\n",
      "\u001b[1m469/469\u001b[0m \u001b[32m━━━━━━━━━━━━━━━━━━━━\u001b[0m\u001b[37m\u001b[0m \u001b[1m3s\u001b[0m 5ms/step - loss: 0.1183 - val_loss: 0.1260\n",
      "Epoch 54/500\n",
      "\u001b[1m469/469\u001b[0m \u001b[32m━━━━━━━━━━━━━━━━━━━━\u001b[0m\u001b[37m\u001b[0m \u001b[1m3s\u001b[0m 6ms/step - loss: 0.1183 - val_loss: 0.1259\n",
      "Epoch 55/500\n",
      "\u001b[1m469/469\u001b[0m \u001b[32m━━━━━━━━━━━━━━━━━━━━\u001b[0m\u001b[37m\u001b[0m \u001b[1m5s\u001b[0m 6ms/step - loss: 0.1182 - val_loss: 0.1260\n",
      "Epoch 56/500\n",
      "\u001b[1m469/469\u001b[0m \u001b[32m━━━━━━━━━━━━━━━━━━━━\u001b[0m\u001b[37m\u001b[0m \u001b[1m3s\u001b[0m 5ms/step - loss: 0.1182 - val_loss: 0.1264\n",
      "Epoch 57/500\n",
      "\u001b[1m469/469\u001b[0m \u001b[32m━━━━━━━━━━━━━━━━━━━━\u001b[0m\u001b[37m\u001b[0m \u001b[1m3s\u001b[0m 6ms/step - loss: 0.1181 - val_loss: 0.1261\n",
      "Epoch 58/500\n",
      "\u001b[1m469/469\u001b[0m \u001b[32m━━━━━━━━━━━━━━━━━━━━\u001b[0m\u001b[37m\u001b[0m \u001b[1m3s\u001b[0m 5ms/step - loss: 0.1181 - val_loss: 0.1261\n",
      "Epoch 59/500\n",
      "\u001b[1m469/469\u001b[0m \u001b[32m━━━━━━━━━━━━━━━━━━━━\u001b[0m\u001b[37m\u001b[0m \u001b[1m3s\u001b[0m 6ms/step - loss: 0.1183 - val_loss: 0.1262\n",
      "Epoch 60/500\n",
      "\u001b[1m469/469\u001b[0m \u001b[32m━━━━━━━━━━━━━━━━━━━━\u001b[0m\u001b[37m\u001b[0m \u001b[1m5s\u001b[0m 7ms/step - loss: 0.1180 - val_loss: 0.1261\n",
      "Epoch 61/500\n",
      "\u001b[1m469/469\u001b[0m \u001b[32m━━━━━━━━━━━━━━━━━━━━\u001b[0m\u001b[37m\u001b[0m \u001b[1m3s\u001b[0m 6ms/step - loss: 0.1181 - val_loss: 0.1261\n",
      "Epoch 62/500\n",
      "\u001b[1m469/469\u001b[0m \u001b[32m━━━━━━━━━━━━━━━━━━━━\u001b[0m\u001b[37m\u001b[0m \u001b[1m3s\u001b[0m 6ms/step - loss: 0.1179 - val_loss: 0.1261\n",
      "Epoch 63/500\n",
      "\u001b[1m469/469\u001b[0m \u001b[32m━━━━━━━━━━━━━━━━━━━━\u001b[0m\u001b[37m\u001b[0m \u001b[1m3s\u001b[0m 6ms/step - loss: 0.1180 - val_loss: 0.1259\n",
      "Epoch 64/500\n",
      "\u001b[1m469/469\u001b[0m \u001b[32m━━━━━━━━━━━━━━━━━━━━\u001b[0m\u001b[37m\u001b[0m \u001b[1m3s\u001b[0m 7ms/step - loss: 0.1182 - val_loss: 0.1263\n",
      "Epoch 65/500\n",
      "\u001b[1m469/469\u001b[0m \u001b[32m━━━━━━━━━━━━━━━━━━━━\u001b[0m\u001b[37m\u001b[0m \u001b[1m4s\u001b[0m 8ms/step - loss: 0.1179 - val_loss: 0.1260\n",
      "Epoch 66/500\n",
      "\u001b[1m469/469\u001b[0m \u001b[32m━━━━━━━━━━━━━━━━━━━━\u001b[0m\u001b[37m\u001b[0m \u001b[1m5s\u001b[0m 7ms/step - loss: 0.1178 - val_loss: 0.1262\n",
      "Epoch 67/500\n",
      "\u001b[1m469/469\u001b[0m \u001b[32m━━━━━━━━━━━━━━━━━━━━\u001b[0m\u001b[37m\u001b[0m \u001b[1m3s\u001b[0m 6ms/step - loss: 0.1176 - val_loss: 0.1267\n",
      "Epoch 68/500\n",
      "\u001b[1m469/469\u001b[0m \u001b[32m━━━━━━━━━━━━━━━━━━━━\u001b[0m\u001b[37m\u001b[0m \u001b[1m3s\u001b[0m 6ms/step - loss: 0.1177 - val_loss: 0.1267\n",
      "Epoch 69/500\n",
      "\u001b[1m469/469\u001b[0m \u001b[32m━━━━━━━━━━━━━━━━━━━━\u001b[0m\u001b[37m\u001b[0m \u001b[1m3s\u001b[0m 7ms/step - loss: 0.1177 - val_loss: 0.1261\n",
      "Epoch 70/500\n",
      "\u001b[1m469/469\u001b[0m \u001b[32m━━━━━━━━━━━━━━━━━━━━\u001b[0m\u001b[37m\u001b[0m \u001b[1m3s\u001b[0m 6ms/step - loss: 0.1177 - val_loss: 0.1265\n",
      "Epoch 71/500\n",
      "\u001b[1m469/469\u001b[0m \u001b[32m━━━━━━━━━━━━━━━━━━━━\u001b[0m\u001b[37m\u001b[0m \u001b[1m3s\u001b[0m 6ms/step - loss: 0.1177 - val_loss: 0.1261\n",
      "Epoch 72/500\n",
      "\u001b[1m469/469\u001b[0m \u001b[32m━━━━━━━━━━━━━━━━━━━━\u001b[0m\u001b[37m\u001b[0m \u001b[1m3s\u001b[0m 6ms/step - loss: 0.1177 - val_loss: 0.1260\n",
      "Epoch 73/500\n",
      "\u001b[1m469/469\u001b[0m \u001b[32m━━━━━━━━━━━━━━━━━━━━\u001b[0m\u001b[37m\u001b[0m \u001b[1m3s\u001b[0m 6ms/step - loss: 0.1175 - val_loss: 0.1261\n",
      "Epoch 74/500\n",
      "\u001b[1m469/469\u001b[0m \u001b[32m━━━━━━━━━━━━━━━━━━━━\u001b[0m\u001b[37m\u001b[0m \u001b[1m3s\u001b[0m 6ms/step - loss: 0.1175 - val_loss: 0.1261\n",
      "Epoch 75/500\n",
      "\u001b[1m469/469\u001b[0m \u001b[32m━━━━━━━━━━━━━━━━━━━━\u001b[0m\u001b[37m\u001b[0m \u001b[1m3s\u001b[0m 6ms/step - loss: 0.1175 - val_loss: 0.1261\n",
      "Epoch 76/500\n",
      "\u001b[1m469/469\u001b[0m \u001b[32m━━━━━━━━━━━━━━━━━━━━\u001b[0m\u001b[37m\u001b[0m \u001b[1m5s\u001b[0m 5ms/step - loss: 0.1174 - val_loss: 0.1265\n",
      "Epoch 77/500\n",
      "\u001b[1m469/469\u001b[0m \u001b[32m━━━━━━━━━━━━━━━━━━━━\u001b[0m\u001b[37m\u001b[0m \u001b[1m3s\u001b[0m 5ms/step - loss: 0.1175 - val_loss: 0.1260\n",
      "Epoch 78/500\n",
      "\u001b[1m469/469\u001b[0m \u001b[32m━━━━━━━━━━━━━━━━━━━━\u001b[0m\u001b[37m\u001b[0m \u001b[1m3s\u001b[0m 5ms/step - loss: 0.1174 - val_loss: 0.1260\n",
      "Epoch 79/500\n",
      "\u001b[1m469/469\u001b[0m \u001b[32m━━━━━━━━━━━━━━━━━━━━\u001b[0m\u001b[37m\u001b[0m \u001b[1m3s\u001b[0m 6ms/step - loss: 0.1174 - val_loss: 0.1260\n",
      "Epoch 80/500\n",
      "\u001b[1m469/469\u001b[0m \u001b[32m━━━━━━━━━━━━━━━━━━━━\u001b[0m\u001b[37m\u001b[0m \u001b[1m3s\u001b[0m 6ms/step - loss: 0.1174 - val_loss: 0.1261\n",
      "Epoch 81/500\n",
      "\u001b[1m469/469\u001b[0m \u001b[32m━━━━━━━━━━━━━━━━━━━━\u001b[0m\u001b[37m\u001b[0m \u001b[1m3s\u001b[0m 6ms/step - loss: 0.1173 - val_loss: 0.1260\n",
      "Epoch 82/500\n",
      "\u001b[1m469/469\u001b[0m \u001b[32m━━━━━━━━━━━━━━━━━━━━\u001b[0m\u001b[37m\u001b[0m \u001b[1m3s\u001b[0m 6ms/step - loss: 0.1171 - val_loss: 0.1263\n",
      "Epoch 83/500\n",
      "\u001b[1m469/469\u001b[0m \u001b[32m━━━━━━━━━━━━━━━━━━━━\u001b[0m\u001b[37m\u001b[0m \u001b[1m3s\u001b[0m 6ms/step - loss: 0.1173 - val_loss: 0.1264\n",
      "Epoch 84/500\n",
      "\u001b[1m469/469\u001b[0m \u001b[32m━━━━━━━━━━━━━━━━━━━━\u001b[0m\u001b[37m\u001b[0m \u001b[1m3s\u001b[0m 5ms/step - loss: 0.1174 - val_loss: 0.1260\n",
      "Epoch 85/500\n",
      "\u001b[1m469/469\u001b[0m \u001b[32m━━━━━━━━━━━━━━━━━━━━\u001b[0m\u001b[37m\u001b[0m \u001b[1m3s\u001b[0m 6ms/step - loss: 0.1171 - val_loss: 0.1261\n",
      "Epoch 86/500\n",
      "\u001b[1m469/469\u001b[0m \u001b[32m━━━━━━━━━━━━━━━━━━━━\u001b[0m\u001b[37m\u001b[0m \u001b[1m3s\u001b[0m 6ms/step - loss: 0.1171 - val_loss: 0.1261\n",
      "Epoch 87/500\n",
      "\u001b[1m469/469\u001b[0m \u001b[32m━━━━━━━━━━━━━━━━━━━━\u001b[0m\u001b[37m\u001b[0m \u001b[1m3s\u001b[0m 6ms/step - loss: 0.1174 - val_loss: 0.1264\n",
      "Epoch 88/500\n",
      "\u001b[1m469/469\u001b[0m \u001b[32m━━━━━━━━━━━━━━━━━━━━\u001b[0m\u001b[37m\u001b[0m \u001b[1m5s\u001b[0m 5ms/step - loss: 0.1173 - val_loss: 0.1260\n",
      "Epoch 89/500\n",
      "\u001b[1m469/469\u001b[0m \u001b[32m━━━━━━━━━━━━━━━━━━━━\u001b[0m\u001b[37m\u001b[0m \u001b[1m3s\u001b[0m 5ms/step - loss: 0.1171 - val_loss: 0.1266\n",
      "Epoch 90/500\n",
      "\u001b[1m469/469\u001b[0m \u001b[32m━━━━━━━━━━━━━━━━━━━━\u001b[0m\u001b[37m\u001b[0m \u001b[1m3s\u001b[0m 6ms/step - loss: 0.1169 - val_loss: 0.1260\n",
      "Epoch 91/500\n",
      "\u001b[1m469/469\u001b[0m \u001b[32m━━━━━━━━━━━━━━━━━━━━\u001b[0m\u001b[37m\u001b[0m \u001b[1m5s\u001b[0m 6ms/step - loss: 0.1171 - val_loss: 0.1261\n",
      "Epoch 92/500\n",
      "\u001b[1m469/469\u001b[0m \u001b[32m━━━━━━━━━━━━━━━━━━━━\u001b[0m\u001b[37m\u001b[0m \u001b[1m3s\u001b[0m 6ms/step - loss: 0.1169 - val_loss: 0.1261\n",
      "Epoch 93/500\n",
      "\u001b[1m469/469\u001b[0m \u001b[32m━━━━━━━━━━━━━━━━━━━━\u001b[0m\u001b[37m\u001b[0m \u001b[1m3s\u001b[0m 5ms/step - loss: 0.1170 - val_loss: 0.1261\n",
      "Epoch 94/500\n",
      "\u001b[1m469/469\u001b[0m \u001b[32m━━━━━━━━━━━━━━━━━━━━\u001b[0m\u001b[37m\u001b[0m \u001b[1m3s\u001b[0m 5ms/step - loss: 0.1171 - val_loss: 0.1260\n",
      "Epoch 95/500\n",
      "\u001b[1m469/469\u001b[0m \u001b[32m━━━━━━━━━━━━━━━━━━━━\u001b[0m\u001b[37m\u001b[0m \u001b[1m3s\u001b[0m 6ms/step - loss: 0.1170 - val_loss: 0.1260\n",
      "Epoch 96/500\n",
      "\u001b[1m469/469\u001b[0m \u001b[32m━━━━━━━━━━━━━━━━━━━━\u001b[0m\u001b[37m\u001b[0m \u001b[1m5s\u001b[0m 6ms/step - loss: 0.1169 - val_loss: 0.1262\n",
      "Epoch 97/500\n",
      "\u001b[1m469/469\u001b[0m \u001b[32m━━━━━━━━━━━━━━━━━━━━\u001b[0m\u001b[37m\u001b[0m \u001b[1m3s\u001b[0m 5ms/step - loss: 0.1170 - val_loss: 0.1265\n",
      "Epoch 98/500\n",
      "\u001b[1m469/469\u001b[0m \u001b[32m━━━━━━━━━━━━━━━━━━━━\u001b[0m\u001b[37m\u001b[0m \u001b[1m3s\u001b[0m 6ms/step - loss: 0.1171 - val_loss: 0.1262\n",
      "Epoch 99/500\n",
      "\u001b[1m469/469\u001b[0m \u001b[32m━━━━━━━━━━━━━━━━━━━━\u001b[0m\u001b[37m\u001b[0m \u001b[1m3s\u001b[0m 5ms/step - loss: 0.1168 - val_loss: 0.1262\n",
      "Epoch 100/500\n",
      "\u001b[1m469/469\u001b[0m \u001b[32m━━━━━━━━━━━━━━━━━━━━\u001b[0m\u001b[37m\u001b[0m \u001b[1m3s\u001b[0m 6ms/step - loss: 0.1169 - val_loss: 0.1260\n",
      "Epoch 101/500\n",
      "\u001b[1m469/469\u001b[0m \u001b[32m━━━━━━━━━━━━━━━━━━━━\u001b[0m\u001b[37m\u001b[0m \u001b[1m3s\u001b[0m 6ms/step - loss: 0.1168 - val_loss: 0.1260\n",
      "Epoch 102/500\n",
      "\u001b[1m469/469\u001b[0m \u001b[32m━━━━━━━━━━━━━━━━━━━━\u001b[0m\u001b[37m\u001b[0m \u001b[1m5s\u001b[0m 5ms/step - loss: 0.1169 - val_loss: 0.1262\n",
      "Epoch 103/500\n",
      "\u001b[1m469/469\u001b[0m \u001b[32m━━━━━━━━━━━━━━━━━━━━\u001b[0m\u001b[37m\u001b[0m \u001b[1m3s\u001b[0m 6ms/step - loss: 0.1170 - val_loss: 0.1261\n",
      "Epoch 103: early stopping\n"
     ]
    },
    {
     "data": {
      "text/plain": [
       "<keras.src.callbacks.history.History at 0x19888ce4950>"
      ]
     },
     "execution_count": 26,
     "metadata": {},
     "output_type": "execute_result"
    }
   ],
   "source": [
    "inputs = Input(shape=(784,))\n",
    "encoder = Dense(200, activation = 'relu')(inputs)\n",
    "decoder = Dense(784, activation = 'sigmoid')(encoder)\n",
    "modelo = Model(inputs, decoder)\n",
    "modelo.compile(optimizer = 'adam', loss = 'binary_crossentropy')\n",
    "es = EarlyStopping(monitor = 'val_loss', mode = 'min', verbose = 2, patience = 40)\n",
    "modelo.fit(x_treinamento_ruido, x_treinamento, batch_size = 128, shuffle = True, epochs = 500, \n",
    "                      callbacks = [es], validation_data=(x_teste_ruido, x_teste))"
   ]
  },
  {
   "cell_type": "markdown",
   "id": "e21daec8-9058-4a35-b6dd-1e5280aad9b3",
   "metadata": {},
   "source": [
    "Inserção de ruídos em dados selecionados aleatoriamente para posterior remoção como o modelo de autoencoder"
   ]
  },
  {
   "cell_type": "code",
   "execution_count": 45,
   "id": "c1ebeaa4-f188-4ef4-a16e-8b58e85fd778",
   "metadata": {
    "tags": []
   },
   "outputs": [
    {
     "name": "stdout",
     "output_type": "stream",
     "text": [
      "\u001b[1m1/1\u001b[0m \u001b[32m━━━━━━━━━━━━━━━━━━━━\u001b[0m\u001b[37m\u001b[0m \u001b[1m0s\u001b[0m 27ms/step\n"
     ]
    }
   ],
   "source": [
    "idx = np.random.randint(x_teste.shape[0])\n",
    "original_image = x_teste[idx]\n",
    "noisy_image = original_image + 0.7 * np.random.normal(loc = 0.0, scale = 1.0, size = original_image.shape)\n",
    "noisy_image = np.clip(noisy_image, 0.0, 1.0)\n",
    "new_image = modelo.predict(np.expand_dims(noisy_image, axis = 0))\n",
    "denoised_image = new_image.reshape((28,28))"
   ]
  },
  {
   "cell_type": "markdown",
   "id": "97d4b007-3d8f-4000-82db-3431e7458c14",
   "metadata": {},
   "source": [
    "Gráfico com dados originais, com ruído e com ruído removido pelo autoencoder"
   ]
  },
  {
   "cell_type": "code",
   "execution_count": 47,
   "id": "b097efa7-a246-4e2b-a77c-2305a05087db",
   "metadata": {
    "tags": []
   },
   "outputs": [
    {
     "data": {
      "image/png": "[encoded data removed]",
      "text/plain": [
       "<Figure size 1000x500 with 3 Axes>"
      ]
     },
     "metadata": {},
     "output_type": "display_data"
    }
   ],
   "source": [
    "plt.figure(figsize=(10,5))\n",
    "\n",
    "plt.subplot(1,3,1)\n",
    "plt.imshow(original_image.reshape((28,28)), cmap = 'gray')\n",
    "plt.title(\"Imagem original\")\n",
    "plt.axis(\"off\")\n",
    "\n",
    "plt.subplot(1,3,2)\n",
    "plt.imshow(noisy_image.reshape((28,28)), cmap = 'gray')\n",
    "plt.title(\"Imagem com ruído\")\n",
    "plt.axis(\"off\")\n",
    "\n",
    "plt.subplot(1,3,3)\n",
    "plt.imshow(denoised_image, cmap = 'gray')\n",
    "plt.title(\"Imagem com ruído removido\")\n",
    "plt.axis(\"off\")\n",
    "plt.show()\n"
   ]
  },
  {
   "cell_type": "code",
   "execution_count": null,
   "id": "c9f1e19b-d56e-4a92-9d8b-b532e8fa1645",
   "metadata": {},
   "outputs": [],
   "source": [
    "\n"
   ]
  }
 ],
 "metadata": {
  "kernelspec": {
   "display_name": "Python 3 (ipykernel)",
   "language": "python",
   "name": "python3"
  },
  "language_info": {
   "codemirror_mode": {
    "name": "ipython",
    "version": 3
   },
   "file_extension": ".py",
   "mimetype": "text/x-python",
   "name": "python",
   "nbconvert_exporter": "python",
   "pygments_lexer": "ipython3",
   "version": "3.11.5"
  }
 },
 "nbformat": 4,
 "nbformat_minor": 5
}
